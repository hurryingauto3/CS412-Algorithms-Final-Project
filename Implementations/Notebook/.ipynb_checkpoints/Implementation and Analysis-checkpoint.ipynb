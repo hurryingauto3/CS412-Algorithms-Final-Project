{
 "cells": [
  {
   "cell_type": "markdown",
   "metadata": {},
   "source": [
    "# Implementation and Analysis of TSP Algorithms"
   ]
  },
  {
   "cell_type": "markdown",
   "metadata": {},
   "source": [
    "#### Dependencies"
   ]
  },
  {
   "cell_type": "code",
   "execution_count": null,
   "metadata": {},
   "outputs": [],
   "source": [
    "import time\n",
    "import matplotlib.pyplot as plt\n",
    "import numpy as np\n",
    "from functools import partial\n",
    "import networkx as nx\n",
    "from collections import defaultdict\n",
    "import heapq\n",
    "import copy \n",
    "import random\n",
    "import tspsolve\n",
    "import itertools\n",
    "import random\n",
    "import sys"
   ]
  },
  {
   "cell_type": "markdown",
   "metadata": {},
   "source": [
    "#### Graph builders"
   ]
  },
  {
   "cell_type": "code",
   "execution_count": null,
   "metadata": {},
   "outputs": [],
   "source": [
    "def complete_graph(n):\n",
    "    G = nx.complete_graph(n, create_using = nx.Graph)\n",
    "    for u, v, d in G.edges(data=True):\n",
    "        d['weight'] = random.randrange(1, 10)\n",
    "    return G\n",
    "\n",
    "def complete_graph_matrix(G, n):\n",
    "    dists = [[0] * n for i in range(n)]\n",
    "    for u, v, d in G.edges(data=True):\n",
    "            dists[u][v] = dists[v][u] = d['weight']\n",
    "    return dists\n",
    "\n",
    "def complete_graph_matrix_np(G):\n",
    "    return np.matrix(np.array(G))\n",
    "    \n",
    "def Pretty_Print(G):\n",
    "    for row in G_:\n",
    "        print(''.join([str(n).rjust(3, ' ') for n in row]))"
   ]
  },
  {
   "cell_type": "code",
   "execution_count": null,
   "metadata": {},
   "outputs": [],
   "source": [
    "G = complete_graph(5)\n",
    "pos = nx.spring_layout(G)\n",
    "labels = nx.get_edge_attributes(G, 'weight')\n",
    "nx.draw_networkx_edge_labels(G, pos, edge_labels=labels)\n",
    "nx.draw(G, pos, with_labels=True)\n",
    "G_ = complete_graph_matrix(G, len(G))\n",
    "_G = complete_graph_matrix_np(G)\n",
    "Pretty_Print(G_)\n",
    "print('\\n')"
   ]
  },
  {
   "cell_type": "markdown",
   "metadata": {},
   "source": [
    "## Exact Algorithm\n",
    "#### Held-Karp Algorithm"
   ]
  },
  {
   "cell_type": "code",
   "execution_count": null,
   "metadata": {},
   "outputs": [],
   "source": [
    "def held_karp(dists):\n",
    "    \"\"\"\n",
    "    Implementation of Held-Karp, an algorithm that solves the Traveling\n",
    "    Salesman Problem using dynamic programming with memoization.\n",
    "    Parameters:\n",
    "        dists: distance matrix\n",
    "    Returns:\n",
    "        A tuple, (cost, path).\n",
    "    \"\"\"\n",
    "    n = len(dists)\n",
    "\n",
    "    # Maps each subset of the nodes to the cost to reach that subset, as well\n",
    "    # as what node it passed before reaching this subset.\n",
    "    # Node subsets are represented as set bits.\n",
    "    C = {}\n",
    "\n",
    "    # Set transition cost from initial state\n",
    "    for k in range(1, n):\n",
    "        C[(1 << k, k)] = (dists[0][k], 0)\n",
    "\n",
    "    # Iterate subsets of increasing length and store intermediate results\n",
    "    # in classic dynamic programming manner\n",
    "    for subset_size in range(2, n):\n",
    "        for subset in itertools.combinations(range(1, n), subset_size):\n",
    "            # Set bits for all nodes in this subset\n",
    "            bits = 0\n",
    "            for bit in subset:\n",
    "                bits |= 1 << bit\n",
    "\n",
    "            # Find the lowest cost to get to this subset\n",
    "            for k in subset:\n",
    "                prev = bits & ~(1 << k)\n",
    "\n",
    "                res = []\n",
    "                for m in subset:\n",
    "                    if m == 0 or m == k:\n",
    "                        continue\n",
    "                    res.append((C[(prev, m)][0] + dists[m][k], m))\n",
    "                C[(bits, k)] = min(res)\n",
    "\n",
    "    # We're interested in all bits but the least significant (the start state)\n",
    "    bits = (2**n - 1) - 1\n",
    "\n",
    "    # Calculate optimal cost\n",
    "    res = []\n",
    "    for k in range(1, n):\n",
    "        res.append((C[(bits, k)][0] + dists[k][0], k))\n",
    "    opt, parent = min(res)\n",
    "\n",
    "    # Backtrack to find full path\n",
    "    path = []\n",
    "    for i in range(n - 1):\n",
    "        path.append(parent)\n",
    "        new_bits = bits & ~(1 << parent)\n",
    "        _, parent = C[(bits, parent)]\n",
    "        bits = new_bits\n",
    "\n",
    "    # Add implicit start state\n",
    "    path.append(0)\n",
    "\n",
    "    return opt, list(reversed(path))\n"
   ]
  },
  {
   "cell_type": "code",
   "execution_count": null,
   "metadata": {},
   "outputs": [],
   "source": [
    "start = time.time()\n",
    "print(\"Shortest path hamiltonian cycle: \", held_karp(G_))\n",
    "print(time.time() - start)"
   ]
  },
  {
   "cell_type": "code",
   "execution_count": null,
   "metadata": {},
   "outputs": [],
   "source": [
    "n = 10\n",
    "repeat = 1\n",
    "runtimes = []\n",
    "G = complete_graph(n)\n",
    "for i in range(n):\n",
    "    dists = complete_graph_matrix(G, n)\n",
    "    start = time.time()\n",
    "    for j in range(repeat):\n",
    "        held_karp(dists)    \n",
    "    runtimes.append((time.time() - start)/repeat)\n",
    "    print((time.time() - start)/repeat)\n",
    "plt.plot([i for i in range(n)], runtimes)\n",
    "plt.xlabel(\"Vertices in Graph\")\n",
    "plt.ylabel(\"Runtime/Seconds\")\n",
    "plt.show()"
   ]
  },
  {
   "cell_type": "markdown",
   "metadata": {},
   "source": [
    "## Approximation Algorithms\n",
    "#### Pairwise Exchange Algorithm"
   ]
  },
  {
   "cell_type": "code",
   "execution_count": null,
   "metadata": {},
   "outputs": [],
   "source": [
    "# Calculate the change in the total weight of path\n",
    "def cost_change(cost_mat, n1, n2, n3, n4):\n",
    "    return cost_mat[n1][n3] + cost_mat[n2][n4] - cost_mat[n1][n2] - cost_mat[n3][n4]\n",
    "\n",
    "\n",
    "# Takes in an adjacency matrix and arbitrary route\n",
    "\n",
    "def pairwise_ex(route, cost_mat):\n",
    "    best = route\n",
    "    improved = True\n",
    "    while improved:\n",
    "        improved = False\n",
    "        for i in range(1, len(route) - 2):\n",
    "            for j in range(i + 1, len(route)):\n",
    "                # Continue if the edges have shared nodes\n",
    "                if j - i == 1: continue\n",
    "                if cost_change(cost_mat, best[i - 1]-1, best[i]-1, best[j - 1]-1, best[j]-1) < 0:\n",
    "                    # Swap the edges if the path improves\n",
    "                    best[i:j] = best[j - 1:i - 1:-1]\n",
    "                    improved = True\n",
    "        route = best\n",
    "    return best\n"
   ]
  },
  {
   "cell_type": "code",
   "execution_count": null,
   "metadata": {},
   "outputs": [],
   "source": [
    "start = time.time()\n",
    "print(\"Shortest path hamiltonian cycle: \", pairwise_ex(list(G.nodes()), G_))\n",
    "print(time.time() - start)"
   ]
  },
  {
   "cell_type": "code",
   "execution_count": null,
   "metadata": {},
   "outputs": [],
   "source": [
    "runtimes = []\n",
    "for i in range(1, 100):\n",
    "    G = complete_graph(i)\n",
    "    G_ = complete_graph_matrix(G, len(G))\n",
    "    start = time.time()\n",
    "    pairwise_ex(list(G.nodes()), G_)\n",
    "    runtimes.append(time.time() - start)\n",
    "\n",
    "plt.plot([i for i in range(1, 100)], runtimes)\n",
    "plt.xlabel(\"Vertices in Graph\")\n",
    "plt.ylabel(\"Runtime/Seconds\")\n",
    "plt.show()"
   ]
  },
  {
   "cell_type": "markdown",
   "metadata": {},
   "source": [
    "#### Christofides-Serdyukov Algorithm"
   ]
  },
  {
   "cell_type": "code",
   "execution_count": null,
   "metadata": {},
   "outputs": [],
   "source": [
    "def odd_vertices(T: nx.Graph):\n",
    "    odd_set = set()\n",
    "    for v in T:\n",
    "        if nx.degree(T, v)%2 == 1:\n",
    "            odd_set.add(v)\n",
    "    return odd_set\n",
    "\n",
    "def min_match(G):\n",
    "    matching = nx.Graph()\n",
    "    for v in G:\n",
    "        #print(v)\n",
    "        mydict = {}\n",
    "        for u in G[v]:\n",
    "            if u not in matching and v not in matching:\n",
    "                mydict[u] = G[v][u]['weight']\n",
    "            \n",
    "        if v != None and mydict:\n",
    "            x = min(mydict, key = mydict.get)\n",
    "            matching.add_node(v)\n",
    "            matching.add_node(x)\n",
    "            matching.add_weighted_edges_from([(v, x, G[v][u]['weight'])])\n",
    "    return matching \n",
    "\n",
    "\n",
    "\n",
    "def chirstoalgo(G, v):\n",
    "    min_tree = nx.minimum_spanning_tree(G, v)\n",
    "    x = odd_vertices(min_tree)\n",
    "    sub = G.subgraph(x)\n",
    "    matching = min_match(sub)\n",
    "\n",
    "    multi = nx.MultiGraph()\n",
    "    multi.add_weighted_edges_from(min_tree.edges(data='weight'))\n",
    "    multi.add_weighted_edges_from(matching.edges(data='weight'))\n",
    "    multi.add_nodes_from(min_tree.nodes())\n",
    "\n",
    "    e_circ = [u for u,x in nx.eulerian_circuit(multi, source=v)] \n",
    "    tsp_path = list(dict.fromkeys(e_circ))\n",
    "    return tsp_path"
   ]
  },
  {
   "cell_type": "code",
   "execution_count": null,
   "metadata": {},
   "outputs": [],
   "source": [
    "start = time.time()\n",
    "print(\"Shortest path hamiltonian cycle: \", chirstoalgo(G, 0))\n",
    "print(time.time() - start)"
   ]
  },
  {
   "cell_type": "code",
   "execution_count": null,
   "metadata": {},
   "outputs": [],
   "source": [
    "runtimes = []\n",
    "for i in range(1, 500):\n",
    "    G = complete_graph(i)\n",
    "    G_ = complete_graph_matrix(G, len(G))\n",
    "    start = time.time()\n",
    "    chirstoalgo(G, 0)\n",
    "    runtimes.append(time.time() - start)\n",
    "\n",
    "print(runtimes[99], runtimes[199], runtimes[299], runtimes[399], runtimes[498])\n",
    "plt.plot([i for i in range(1, 500)], runtimes)\n",
    "plt.xlabel(\"Vertices in Graph\")\n",
    "plt.ylabel(\"Runtime/Seconds\")\n",
    "plt.show()"
   ]
  },
  {
   "cell_type": "markdown",
   "metadata": {},
   "source": [
    "#### Nearest Neighbors Algorithm"
   ]
  },
  {
   "cell_type": "code",
   "execution_count": null,
   "metadata": {},
   "outputs": [],
   "source": [
    "def n_neighbors(A, start):\n",
    "    \"\"\"Nearest neighbor algorithm.\n",
    "    A is an NxN array indicating distance between N locations\n",
    "    start is the index of the starting location\n",
    "    Returns the path and cost of the found solution\n",
    "    \"\"\"\n",
    "    \n",
    "    path = [start]\n",
    "    cost = 0\n",
    "    N = N = A.shape[0]\n",
    "    mask = [np.ones(N, dtype=bool)]  # boolean values indicating which \n",
    "                                   # locations have not been visited\n",
    "    mask[start] = False\n",
    "\n",
    "    for i in range(N-1):\n",
    "        last = path[-1]\n",
    "        next_ind = np.argmin(A[last][mask]) # find minimum of remaining locations\n",
    "        next_loc = np.arange(N)[mask][next_ind] # convert to original location\n",
    "        path.append(next_loc)\n",
    "        mask[next_loc] = False\n",
    "        cost += A[last, next_loc]\n",
    "\n",
    "    return path, cost\n"
   ]
  },
  {
   "cell_type": "code",
   "execution_count": null,
   "metadata": {},
   "outputs": [],
   "source": [
    "print(\"Shortest path hamiltonian cycle: \", n_neighbors(_G, 0))"
   ]
  },
  {
   "cell_type": "code",
   "execution_count": null,
   "metadata": {},
   "outputs": [],
   "source": [
    "runtimes = []\n",
    "for i in range(1, 100):\n",
    "    G = complete_graph(i)\n",
    "    G_ = complete_graph_matrix(G, len(G))\n",
    "    _G = complete_graph_matrix_np(_G)\n",
    "    start = time.time()\n",
    "    n_neighbors(G, 0)\n",
    "    runtimes.append(time.time() - start)\n",
    "\n",
    "plt.plot([i for i in range(1, 100)], runtimes)\n",
    "plt.xlabel(\"Vertices in Graph\")\n",
    "plt.ylabel(\"Runtime/Seconds\")\n",
    "plt.show()"
   ]
  },
  {
   "cell_type": "markdown",
   "metadata": {},
   "source": [
    "## Empirical Analysis"
   ]
  },
  {
   "cell_type": "code",
   "execution_count": null,
   "metadata": {},
   "outputs": [],
   "source": [
    "def EA2(n, repeat, algo):\n",
    "    runtimes = []\n",
    "#     if (algo == \"hk\"):\n",
    "#             return [n**2*2**n for i in range(1,n)]\n",
    "    for i in range(1,n):\n",
    "        \n",
    "        \n",
    "        G1 = complete_graph(i)\n",
    "        G2 = complete_graph_matrix(G1, i)\n",
    "#         for row in G2:\n",
    "#             print(''.join([str(n).rjust(3, ' ') for n in row]))\n",
    "        \n",
    "        if (algo == \"cs\"):\n",
    "            start = time.time()\n",
    "            for j in range(repeat):\n",
    "                chirstoalgo(G1, 0)    \n",
    "            runtimes.append((time.time() - start)/repeat)\n",
    "            \n",
    "        elif (algo == \"hk\" and i < 15):\n",
    "            start = time.time()\n",
    "            for j in range(repeat):\n",
    "                held_karp(G2)    \n",
    "            runtimes.append((time.time() - start)/repeat) \n",
    "            \n",
    "        \n",
    "        elif (algo == \"nn\"):\n",
    "            start = time.time()\n",
    "            for j in range(repeat):\n",
    "                tspsolve.nearest_neighbor(list(G1.nodes()), G2)\n",
    "            runtimes.append((time.time() - start)/repeat)\n",
    "            \n",
    "        \n",
    "        elif (algo == \"pe\"):\n",
    "            start = time.time()\n",
    "            for j in range(repeat):\n",
    "                pairwise_ex(list(G1.nodes()), G2)\n",
    "            runtimes.append((time.time() - start)/repeat)\n",
    "            \n",
    "    return runtimes \n",
    "        \n",
    "def Empirical_Analysis(n, repeat):\n",
    "    n_values = np.array([i for i in range(1, n)])\n",
    "#     hk_runtimes = []\n",
    "#     nn_runtimes = EA2(n, repeat, \"nn\")\n",
    "    cs_runtimes = EA2(n, repeat, \"cs\")\n",
    "    pe_runtimes = EA2(n, repeat, \"pe\")\n",
    "        \n",
    "    fig, axs = plt.subplots(2, 2)\n",
    "    axs[0, 0].plot(n_values, [(n**2)*(2**n) for i in range(1,n)])\n",
    "    axs[0, 0].set_title(\"Held-Karp\")     \n",
    "    axs[1, 0].plot(n_values, [(n**2)for i in range(1,n)])\n",
    "    axs[1, 0].set_title(\"Nearest Neighbor\")\n",
    "    axs[0, 1].plot(n_values, cs_runtimes)\n",
    "    axs[0, 1].set_title(\"Christofides\")\n",
    "    axs[1, 1].plot(n_values, pe_runtimes)\n",
    "    axs[1, 1].set_title(\"Pairwise Exchange\")\n",
    "    \n",
    "    fig.tight_layout()\n",
    "    plt.show()\n",
    "    "
   ]
  },
  {
   "cell_type": "code",
   "execution_count": null,
   "metadata": {},
   "outputs": [],
   "source": [
    "Empirical_Analysis(200, 3)"
   ]
  },
  {
   "cell_type": "code",
   "execution_count": null,
   "metadata": {},
   "outputs": [],
   "source": []
  }
 ],
 "metadata": {
  "kernelspec": {
   "display_name": "Python 3",
   "language": "python",
   "name": "python3"
  },
  "language_info": {
   "codemirror_mode": {
    "name": "ipython",
    "version": 3
   },
   "file_extension": ".py",
   "mimetype": "text/x-python",
   "name": "python",
   "nbconvert_exporter": "python",
   "pygments_lexer": "ipython3",
   "version": "3.8.3"
  }
 },
 "nbformat": 4,
 "nbformat_minor": 4
}
