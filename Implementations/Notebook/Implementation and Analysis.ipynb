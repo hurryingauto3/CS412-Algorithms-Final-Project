{
  "nbformat": 4,
  "nbformat_minor": 0,
  "metadata": {
    "kernelspec": {
      "display_name": "Python 3",
      "language": "python",
      "name": "python3"
    },
    "language_info": {
      "codemirror_mode": {
        "name": "ipython",
        "version": 3
      },
      "file_extension": ".py",
      "mimetype": "text/x-python",
      "name": "python",
      "nbconvert_exporter": "python",
      "pygments_lexer": "ipython3",
      "version": "3.8.3"
    },
    "colab": {
      "name": "Implementation and Analysis.ipynb",
      "provenance": [],
      "collapsed_sections": []
    }
  },
  "cells": [
    {
      "cell_type": "markdown",
      "metadata": {
        "id": "uFrCVla0jfeX"
      },
      "source": [
        "# Implementation and Analysis of TSP Algorithms"
      ]
    },
    {
      "cell_type": "markdown",
      "metadata": {
        "id": "U-kre2SUjfeX"
      },
      "source": [
        "#### Dependencies"
      ]
    },
    {
      "cell_type": "code",
      "metadata": {
        "id": "taSARQjfjfeY"
      },
      "source": [
        "import time\n",
        "import matplotlib.pyplot as plt\n",
        "import numpy as np\n",
        "from functools import partial\n",
        "import networkx as nx\n",
        "from collections import defaultdict\n",
        "import heapq\n",
        "import copy \n",
        "import random\n",
        "import itertools\n",
        "import random\n",
        "import sys"
      ],
      "execution_count": 2,
      "outputs": []
    },
    {
      "cell_type": "markdown",
      "metadata": {
        "id": "qNfFFlihjfeZ"
      },
      "source": [
        "#### Graph builders"
      ]
    },
    {
      "cell_type": "code",
      "metadata": {
        "id": "2T6nLAWfjfeZ"
      },
      "source": [
        "def complete_graph(n):\n",
        "    G = nx.complete_graph(n, create_using = nx.Graph)\n",
        "    for u, v, d in G.edges(data=True):\n",
        "        d['weight'] = random.randrange(1, 10)\n",
        "    return G\n",
        "\n",
        "def complete_graph_matrix(G, n):\n",
        "    dists = [[0] * n for i in range(n)]\n",
        "    for u, v, d in G.edges(data=True):\n",
        "            dists[u][v] = dists[v][u] = d['weight']\n",
        "    return dists\n",
        "\n",
        "def complete_graph_matrix_np(G):\n",
        "    return np.matrix(np.array(G))\n",
        "    \n",
        "def Pretty_Print(G):\n",
        "    for row in G_:\n",
        "        print(''.join([str(n).rjust(3, ' ') for n in row]))"
      ],
      "execution_count": 3,
      "outputs": []
    },
    {
      "cell_type": "code",
      "metadata": {
        "colab": {
          "base_uri": "https://localhost:8080/",
          "height": 377
        },
        "id": "scLa-EhMjfeZ",
        "outputId": "46359f08-d9ad-4f57-9510-4e26ddd6b24b"
      },
      "source": [
        "G = complete_graph(5)\n",
        "pos = nx.spring_layout(G)\n",
        "labels = nx.get_edge_attributes(G, 'weight')\n",
        "nx.draw_networkx_edge_labels(G, pos, edge_labels=labels)\n",
        "nx.draw(G, pos, with_labels=True)\n",
        "G_ = complete_graph_matrix(G, len(G))\n",
        "_G = complete_graph_matrix_np(G)\n",
        "Pretty_Print(G_)\n",
        "print('\\n')"
      ],
      "execution_count": 4,
      "outputs": [
        {
          "output_type": "stream",
          "text": [
            "  0  7  5  3  4\n",
            "  7  0  7  9  2\n",
            "  5  7  0  7  8\n",
            "  3  9  7  0  5\n",
            "  4  2  8  5  0\n",
            "\n",
            "\n"
          ],
          "name": "stdout"
        },
        {
          "output_type": "display_data",
          "data": {
            "image/png": "[encoded data removed]",
            "text/plain": [
              "<Figure size 432x288 with 1 Axes>"
            ]
          },
          "metadata": {
            "tags": []
          }
        }
      ]
    },
    {
      "cell_type": "markdown",
      "metadata": {
        "id": "cpzoFpMKjfeZ"
      },
      "source": [
        "## Exact Algorithm\n",
        "#### Held-Karp Algorithm"
      ]
    },
    {
      "cell_type": "code",
      "metadata": {
        "id": "wQvg4TVDjfea"
      },
      "source": [
        "def held_karp(dists):\n",
        "    \"\"\"\n",
        "    Implementation of Held-Karp, an algorithm that solves the Traveling\n",
        "    Salesman Problem using dynamic programming with memoization.\n",
        "    Parameters:\n",
        "        dists: distance matrix\n",
        "    Returns:\n",
        "        A tuple, (cost, path).\n",
        "    \"\"\"\n",
        "    n = len(dists)\n",
        "\n",
        "    # Maps each subset of the nodes to the cost to reach that subset, as well\n",
        "    # as what node it passed before reaching this subset.\n",
        "    # Node subsets are represented as set bits.\n",
        "    C = {}\n",
        "\n",
        "    # Set transition cost from initial state\n",
        "    for k in range(1, n):\n",
        "        C[(1 << k, k)] = (dists[0][k], 0)\n",
        "\n",
        "    # Iterate subsets of increasing length and store intermediate results\n",
        "    # in classic dynamic programming manner\n",
        "    for subset_size in range(2, n):\n",
        "        for subset in itertools.combinations(range(1, n), subset_size):\n",
        "            # Set bits for all nodes in this subset\n",
        "            bits = 0\n",
        "            for bit in subset:\n",
        "                bits |= 1 << bit\n",
        "\n",
        "            # Find the lowest cost to get to this subset\n",
        "            for k in subset:\n",
        "                prev = bits & ~(1 << k)\n",
        "\n",
        "                res = []\n",
        "                for m in subset:\n",
        "                    if m == 0 or m == k:\n",
        "                        continue\n",
        "                    res.append((C[(prev, m)][0] + dists[m][k], m))\n",
        "                C[(bits, k)] = min(res)\n",
        "\n",
        "    # We're interested in all bits but the least significant (the start state)\n",
        "    bits = (2**n - 1) - 1\n",
        "\n",
        "    # Calculate optimal cost\n",
        "    res = []\n",
        "    for k in range(1, n):\n",
        "        res.append((C[(bits, k)][0] + dists[k][0], k))\n",
        "    opt, parent = min(res)\n",
        "\n",
        "    # Backtrack to find full path\n",
        "    path = []\n",
        "    for i in range(n - 1):\n",
        "        path.append(parent)\n",
        "        new_bits = bits & ~(1 << parent)\n",
        "        _, parent = C[(bits, parent)]\n",
        "        bits = new_bits\n",
        "\n",
        "    # Add implicit start state\n",
        "    path.append(0)\n",
        "\n",
        "    return opt, list(reversed(path))\n",
        "\n",
        "\n",
        "#Held Karp Code taken from https://github.com/CarlEkerot/held-karp/blob/master/held-karp.py\n"
      ],
      "execution_count": 15,
      "outputs": []
    },
    {
      "cell_type": "code",
      "metadata": {
        "colab": {
          "base_uri": "https://localhost:8080/",
          "height": 649
        },
        "id": "YicW9SSSjfec",
        "outputId": "847c61a8-75eb-4d87-abc3-67a5d1396f2b"
      },
      "source": [
        "n = 20\n",
        "repeat = 1\n",
        "runtimes = []\n",
        "G = complete_graph(n)\n",
        "for i in range(n):\n",
        "    dists = complete_graph_matrix(G, n)\n",
        "    start = time.time()\n",
        "    for j in range(repeat):\n",
        "        held_karp(dists)    \n",
        "    runtimes.append((time.time() - start)/repeat)\n",
        "    print((time.time() - start)/repeat)\n",
        "plt.plot([i for i in range(n)], runtimes)\n",
        "plt.xlabel(\"Vertices in Graph\")\n",
        "plt.ylabel(\"Runtime/Seconds\")\n",
        "plt.show()"
      ],
      "execution_count": 8,
      "outputs": [
        {
          "output_type": "stream",
          "text": [
            "30.1781907081604\n",
            "29.358215808868408\n",
            "29.900280952453613\n",
            "29.636661291122437\n",
            "29.739388465881348\n",
            "29.599514961242676\n",
            "30.250260591506958\n",
            "30.73011589050293\n",
            "30.980451345443726\n",
            "30.933791399002075\n",
            "30.03806471824646\n",
            "29.920887231826782\n",
            "29.60241460800171\n",
            "29.390827417373657\n",
            "29.435574769973755\n",
            "30.94013810157776\n",
            "34.77447485923767\n",
            "30.524766206741333\n",
            "30.709426641464233\n",
            "29.44440507888794\n"
          ],
          "name": "stdout"
        },
        {
          "output_type": "display_data",
          "data": {
            "image/png": "[encoded data removed]",
            "text/plain": [
              "<Figure size 432x288 with 1 Axes>"
            ]
          },
          "metadata": {
            "tags": [],
            "needs_background": "light"
          }
        }
      ]
    },
    {
      "cell_type": "markdown",
      "metadata": {
        "id": "VBLrXuLxjfec"
      },
      "source": [
        "## Approximation Algorithms\n",
        "#### Pairwise Exchange Algorithm"
      ]
    },
    {
      "cell_type": "code",
      "metadata": {
        "id": "dhgBiON6jfed"
      },
      "source": [
        "# Calculate the change in the total weight of path\n",
        "def cost_change(cost_mat, n1, n2, n3, n4):\n",
        "    return cost_mat[n1][n3] + cost_mat[n2][n4] - cost_mat[n1][n2] - cost_mat[n3][n4]\n",
        "\n",
        "\n",
        "# Takes in an adjacency matrix and arbitrary route\n",
        "\n",
        "def pairwise_ex(route, cost_mat):\n",
        "    best = route\n",
        "    improved = True\n",
        "    while improved:\n",
        "        improved = False\n",
        "        for i in range(1, len(route) - 2):\n",
        "            for j in range(i + 1, len(route)):\n",
        "                # Continue if the edges have shared nodes\n",
        "                if j - i == 1: continue\n",
        "                if cost_change(cost_mat, best[i - 1]-1, best[i]-1, best[j - 1]-1, best[j]-1) < 0:\n",
        "                    # Swap the edges if the path improves\n",
        "                    best[i:j] = best[j - 1:i - 1:-1]\n",
        "                    improved = True\n",
        "        route = best\n",
        "    return best\n"
      ],
      "execution_count": 11,
      "outputs": []
    },
    {
      "cell_type": "code",
      "metadata": {
        "colab": {
          "base_uri": "https://localhost:8080/",
          "height": 279
        },
        "id": "nBYQ3DyBjfed",
        "outputId": "565223b6-f6c4-47b6-97b4-6b980315e025"
      },
      "source": [
        "runtimes = []\n",
        "for i in range(1, 100):\n",
        "    G = complete_graph(i)\n",
        "    G_ = complete_graph_matrix(G, len(G))\n",
        "    start = time.time()\n",
        "    pairwise_ex(list(G.nodes()), G_)\n",
        "    runtimes.append(time.time() - start)\n",
        "\n",
        "plt.plot([i for i in range(1, 100)], runtimes)\n",
        "plt.xlabel(\"Vertices in Graph\")\n",
        "plt.ylabel(\"Runtime/Seconds\")\n",
        "plt.show()"
      ],
      "execution_count": 13,
      "outputs": [
        {
          "output_type": "display_data",
          "data": {
            "image/png": "[encoded data removed]",
            "text/plain": [
              "<Figure size 432x288 with 1 Axes>"
            ]
          },
          "metadata": {
            "tags": [],
            "needs_background": "light"
          }
        }
      ]
    },
    {
      "cell_type": "markdown",
      "metadata": {
        "id": "UeDuqVZEjfed"
      },
      "source": [
        "#### Christofides-Serdyukov Algorithm"
      ]
    },
    {
      "cell_type": "code",
      "metadata": {
        "id": "m4tAhkXCjfed"
      },
      "source": [
        "def odd_vertices(T: nx.Graph):\n",
        "    odd_set = set()\n",
        "    for v in T:\n",
        "        if nx.degree(T, v)%2 == 1:\n",
        "            odd_set.add(v)\n",
        "    return odd_set\n",
        "\n",
        "def min_match(G):\n",
        "    matching = nx.Graph()\n",
        "    for v in G:\n",
        "        #print(v)\n",
        "        mydict = {}\n",
        "        for u in G[v]:\n",
        "            if u not in matching and v not in matching:\n",
        "                mydict[u] = G[v][u]['weight']\n",
        "            \n",
        "        if v != None and mydict:\n",
        "            x = min(mydict, key = mydict.get)\n",
        "            matching.add_node(v)\n",
        "            matching.add_node(x)\n",
        "            matching.add_weighted_edges_from([(v, x, G[v][u]['weight'])])\n",
        "    return matching \n",
        "\n",
        "\n",
        "\n",
        "def chirstoalgo(G, v):\n",
        "    min_tree = nx.minimum_spanning_tree(G, v)\n",
        "    x = odd_vertices(min_tree)\n",
        "    sub = G.subgraph(x)\n",
        "    matching = min_match(sub)\n",
        "\n",
        "    multi = nx.MultiGraph()\n",
        "    multi.add_weighted_edges_from(min_tree.edges(data='weight'))\n",
        "    multi.add_weighted_edges_from(matching.edges(data='weight'))\n",
        "    multi.add_nodes_from(min_tree.nodes())\n",
        "\n",
        "    e_circ = [u for u,x in nx.eulerian_circuit(multi, source=v)] \n",
        "    tsp_path = list(dict.fromkeys(e_circ))\n",
        "    return tsp_path"
      ],
      "execution_count": 14,
      "outputs": []
    },
    {
      "cell_type": "code",
      "metadata": {
        "colab": {
          "base_uri": "https://localhost:8080/",
          "height": 297
        },
        "id": "7MgCSSWxjfee",
        "outputId": "c80a1085-81ff-4696-afde-178b10c8eef5"
      },
      "source": [
        "runtimes = []\n",
        "for i in range(1, 500):\n",
        "    G = complete_graph(i)\n",
        "    G_ = complete_graph_matrix(G, len(G))\n",
        "    start = time.time()\n",
        "    chirstoalgo(G, 0)\n",
        "    runtimes.append(time.time() - start)\n",
        "\n",
        "print(runtimes[99], runtimes[199], runtimes[299], runtimes[399], runtimes[498])\n",
        "plt.plot([i for i in range(1, 500)], runtimes)\n",
        "plt.xlabel(\"Vertices in Graph\")\n",
        "plt.ylabel(\"Runtime/Seconds\")\n",
        "plt.show()"
      ],
      "execution_count": 17,
      "outputs": [
        {
          "output_type": "stream",
          "text": [
            "0.032506704330444336 0.11890459060668945 0.3266129493713379 0.5313048362731934 0.847583532333374\n"
          ],
          "name": "stdout"
        },
        {
          "output_type": "display_data",
          "data": {
            "image/png": "[encoded data removed]",
            "text/plain": [
              "<Figure size 432x288 with 1 Axes>"
            ]
          },
          "metadata": {
            "tags": [],
            "needs_background": "light"
          }
        }
      ]
    },
    {
      "cell_type": "markdown",
      "metadata": {
        "id": "b9X55pA4jfee"
      },
      "source": [
        "#### Nearest Neighbors Algorithm"
      ]
    },
    {
      "cell_type": "code",
      "metadata": {
        "id": "nVy7brw5jfee"
      },
      "source": [
        "def n_neighbors(A, start):\n",
        "    \"\"\"Nearest neighbor algorithm.\n",
        "    A is an NxN array indicating distance between N locations\n",
        "    start is the index of the starting location\n",
        "    Returns the path and cost of the found solution\n",
        "    \"\"\"\n",
        "    \n",
        "    path = [start]\n",
        "    cost = 0\n",
        "    N = N = A.shape[0]\n",
        "    mask = [np.ones(N, dtype=bool)]  # boolean values indicating which \n",
        "                                   # locations have not been visited\n",
        "    mask[start] = False\n",
        "\n",
        "    for i in range(N-1):\n",
        "        last = path[-1]\n",
        "        next_ind = np.argmin(A[last][mask]) # find minimum of remaining locations\n",
        "        next_loc = np.arange(N)[mask][next_ind] # convert to original location\n",
        "        path.append(next_loc)\n",
        "        mask[next_loc] = False\n",
        "        cost += A[last, next_loc]\n",
        "\n",
        "    return path, cost\n"
      ],
      "execution_count": 19,
      "outputs": []
    },
    {
      "cell_type": "code",
      "metadata": {
        "id": "JmyV_I1djfee"
      },
      "source": [
        "runtimes = []\n",
        "for i in range(1, 100):\n",
        "    G = complete_graph(i)\n",
        "    G_ = complete_graph_matrix(G, len(G))\n",
        "    _G = complete_graph_matrix_np(_G)\n",
        "    start = time.time()\n",
        "    n_neighbors(G, 0)\n",
        "    runtimes.append(time.time() - start)\n",
        "\n",
        "plt.plot([i for i in range(1, 100)], runtimes)\n",
        "plt.xlabel(\"Vertices in Graph\")\n",
        "plt.ylabel(\"Runtime/Seconds\")\n",
        "plt.show()"
      ],
      "execution_count": null,
      "outputs": []
    },
    {
      "cell_type": "markdown",
      "metadata": {
        "id": "_4BoZG6Ujfee"
      },
      "source": [
        "## Empirical Analysis"
      ]
    },
    {
      "cell_type": "code",
      "metadata": {
        "id": "nrL7f3K-jfee"
      },
      "source": [
        "def EA2(n, repeat, algo):\n",
        "    runtimes = []\n",
        "#     if (algo == \"hk\"):\n",
        "#             return [n**2*2**n for i in range(1,n)]\n",
        "    for i in range(1,n):\n",
        "        \n",
        "        \n",
        "        G1 = complete_graph(i)\n",
        "        G2 = complete_graph_matrix(G1, i)\n",
        "#         for row in G2:\n",
        "#             print(''.join([str(n).rjust(3, ' ') for n in row]))\n",
        "        \n",
        "        if (algo == \"cs\"):\n",
        "            start = time.time()\n",
        "            for j in range(repeat):\n",
        "                chirstoalgo(G1, 0)    \n",
        "            runtimes.append((time.time() - start)/repeat)\n",
        "            \n",
        "        elif (algo == \"hk\" and i < 15):\n",
        "            start = time.time()\n",
        "            for j in range(repeat):\n",
        "                held_karp(G2)    \n",
        "            runtimes.append((time.time() - start)/repeat) \n",
        "            \n",
        "        \n",
        "        elif (algo == \"nn\"):\n",
        "            start = time.time()\n",
        "            for j in range(repeat):\n",
        "                tspsolve.nearest_neighbor(list(G1.nodes()), G2)\n",
        "            runtimes.append((time.time() - start)/repeat)\n",
        "            \n",
        "        \n",
        "        elif (algo == \"pe\"):\n",
        "            start = time.time()\n",
        "            for j in range(repeat):\n",
        "                pairwise_ex(list(G1.nodes()), G2)\n",
        "            runtimes.append((time.time() - start)/repeat)\n",
        "            \n",
        "    return runtimes \n",
        "        \n",
        "def Empirical_Analysis(n, repeat):\n",
        "    n_values = np.array([i for i in range(1, n)])\n",
        "#     hk_runtimes = []\n",
        "#     nn_runtimes = EA2(n, repeat, \"nn\")\n",
        "    cs_runtimes = EA2(n, repeat, \"cs\")\n",
        "    pe_runtimes = EA2(n, repeat, \"pe\")\n",
        "        \n",
        "    fig, axs = plt.subplots(2, 2)\n",
        "    axs[0, 0].plot(n_values, [(n**2)*(2**n) for i in range(1,n)])\n",
        "    axs[0, 0].set_title(\"Held-Karp\")     \n",
        "    axs[1, 0].plot(n_values, [(n**2)for i in range(1,n)])\n",
        "    axs[1, 0].set_title(\"Nearest Neighbor\")\n",
        "    axs[0, 1].plot(n_values, cs_runtimes)\n",
        "    axs[0, 1].set_title(\"Christofides\")\n",
        "    axs[1, 1].plot(n_values, pe_runtimes)\n",
        "    axs[1, 1].set_title(\"Pairwise Exchange\")\n",
        "    \n",
        "    fig.tight_layout()\n",
        "    plt.show()\n",
        "    "
      ],
      "execution_count": 22,
      "outputs": []
    },
    {
      "cell_type": "code",
      "metadata": {
        "colab": {
          "base_uri": "https://localhost:8080/",
          "height": 297
        },
        "id": "exSpMwiajfee",
        "outputId": "dd2ecc2c-0e2c-4e00-bb20-1db0812fa8b4"
      },
      "source": [
        "Empirical_Analysis(200, 3)"
      ],
      "execution_count": 23,
      "outputs": [
        {
          "output_type": "display_data",
          "data": {
            "image/png": "[encoded data removed]",
            "text/plain": [
              "<Figure size 432x288 with 4 Axes>"
            ]
          },
          "metadata": {
            "tags": [],
            "needs_background": "light"
          }
        }
      ]
    },
    {
      "cell_type": "code",
      "metadata": {
        "id": "mRa10TnMjfee"
      },
      "source": [
        ""
      ],
      "execution_count": null,
      "outputs": []
    }
  ]
}